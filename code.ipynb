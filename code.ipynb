{
 "cells": [
  {
   "cell_type": "code",
   "execution_count": 0,
   "metadata": {
    "application/vnd.databricks.v1+cell": {
     "cellMetadata": {
      "byteLimit": 2048000,
      "rowLimit": 10000
     },
     "collapsed": true,
     "inputWidgets": {},
     "nuid": "98f87b3f-48ec-4713-9fc8-c6808f316645",
     "showTitle": false,
     "tableResultSettingsMap": {},
     "title": ""
    }
   },
   "outputs": [
    {
     "output_type": "stream",
     "name": "stdout",
     "output_type": "stream",
     "text": [
      "Python interpreter will be restarted.\nRequirement already satisfied: python-dotenv in /local_disk0/.ephemeral_nfs/envs/pythonEnv-f8294d3a-3396-4509-b28e-d716ac75f12b/lib/python3.9/site-packages (1.1.0)\nPython interpreter will be restarted.\n"
     ]
    }
   ],
   "source": [
    "%pip install --upgrade python-dotenv\n"
   ]
  },
  {
   "cell_type": "code",
   "execution_count": 0,
   "metadata": {
    "application/vnd.databricks.v1+cell": {
     "cellMetadata": {
      "byteLimit": 2048000,
      "rowLimit": 10000
     },
     "inputWidgets": {},
     "nuid": "f5941f22-dfc9-42b9-9cb7-61f11959a081",
     "showTitle": false,
     "tableResultSettingsMap": {},
     "title": ""
    }
   },
   "outputs": [],
   "source": [
    "import requests\n",
    "import json\n",
    "from pyspark.sql.functions import *\n",
    "from pyspark.sql.window import *\n",
    "from dotenv import load_dotenv"
   ]
  },
  {
   "cell_type": "code",
   "execution_count": 0,
   "metadata": {
    "application/vnd.databricks.v1+cell": {
     "cellMetadata": {
      "byteLimit": 2048000,
      "rowLimit": 10000
     },
     "inputWidgets": {},
     "nuid": "139d5df6-d1b1-4596-80f3-cb8a589317ab",
     "showTitle": false,
     "tableResultSettingsMap": {},
     "title": ""
    }
   },
   "outputs": [
    {
     "output_type": "stream",
     "name": "stdout",
     "output_type": "stream",
     "text": [
      "Out[2]: False"
     ]
    }
   ],
   "source": [
    "#Copying the api_params env file from file store/tables to a local instance\n",
    "from dotenv import load_dotenv\n",
    "import os\n",
    "dbutils.fs.cp(\"dbfs:/FileStore/tables/api_params.env\", \"file:/tmp/your_file.env\", True)\n",
    "load_dotenv(\"/tmp/your_file.env\")\n",
    "dotenv_path = '/dbfs/FileStore/tables/api_params.env'\n",
    "load_dotenv(dotenv_path)"
   ]
  },
  {
   "cell_type": "code",
   "execution_count": 0,
   "metadata": {
    "application/vnd.databricks.v1+cell": {
     "cellMetadata": {
      "byteLimit": 2048000,
      "rowLimit": 10000
     },
     "inputWidgets": {},
     "nuid": "2fa3a7b8-8b20-47a7-ba06-c08cb7b1defb",
     "showTitle": false,
     "tableResultSettingsMap": {},
     "title": ""
    }
   },
   "outputs": [],
   "source": [
    "API_KEY = os.getenv(\"API_KEY\")\n",
    "CHANNEL_NAME = 'rajshamani'\n",
    "URL1 = f'https://www.googleapis.com/youtube/v3/search?part=snippet&type=channel&q={CHANNEL_NAME}&key={API_KEY}'\n",
    "\n",
    "#Getting the channel id from the youtube's channel details API\n",
    "CHANNEL_ID= ''\n",
    "try:\n",
    "    data1 = requests.get(URL1)\n",
    "    data_json1 = data1.json()\n",
    "    print(data_json1)\n",
    "    CHANNEL_ID = data_json1['items'][0]['snippet']['channelId']\n",
    "\n",
    "except Exception as e:\n",
    "    print('Failed to Fetch', {e.error})\n"
   ]
  },
  {
   "cell_type": "code",
   "execution_count": 0,
   "metadata": {
    "application/vnd.databricks.v1+cell": {
     "cellMetadata": {},
     "inputWidgets": {},
     "nuid": "7ab1798f-846c-41e1-ba15-36210a250c5c",
     "showTitle": false,
     "tableResultSettingsMap": {},
     "title": ""
    }
   },
   "outputs": [],
   "source": [
    "#Getting the upload playlist id of the channel, from youtube's content details api\n",
    "UPLOAD_PLAYLIST_ID=''\n",
    "URL2 = f'https://www.googleapis.com/youtube/v3/channels?part=contentDetails&id={CHANNEL_ID}&key={API_KEY}'\n",
    "try:\n",
    "    data2 = requests.get(URL2)\n",
    "    data_json2 = data2.json()\n",
    "    UPLOAD_PLAYLIST_ID = data_json2['items'][0]['contentDetails']['relatedPlaylists']['uploads']\n",
    "except Exception as e:\n",
    "    print('Failed to Fetch', {e})"
   ]
  },
  {
   "cell_type": "code",
   "execution_count": 0,
   "metadata": {
    "application/vnd.databricks.v1+cell": {
     "cellMetadata": {
      "byteLimit": 2048000,
      "rowLimit": 10000
     },
     "inputWidgets": {},
     "nuid": "7d4e11fb-1a03-447c-8ff1-6062a842f395",
     "showTitle": false,
     "tableResultSettingsMap": {},
     "title": ""
    }
   },
   "outputs": [],
   "source": [
    "\n",
    "\n",
    "#Get the latest 50 - video ids, of the videos in the uploads playlist\n",
    "\n",
    "video_ids = []\n",
    "next_page_token = ''\n",
    "while True:\n",
    "    URL3 = f'https://www.googleapis.com/youtube/v3/playlistItems?part=snippet&playlistId={UPLOAD_PLAYLIST_ID}&maxResults=50&pageToken={next_page_token}&key={API_KEY}'\n",
    "    try:\n",
    "        response = requests.get(URL3)\n",
    "        data_json3 = response.json()\n",
    "\n",
    "        for item in data_json3.get('items', []):\n",
    "            video_ids.append(item['snippet']['resourceId']['videoId'])\n",
    "\n",
    "        next_page_token = data_json3.get('nextPageToken')\n",
    "        if not next_page_token:\n",
    "            break  # No more pages\n",
    "\n",
    "    except Exception as e:\n",
    "        print('Failed to fetch videos:', e)\n",
    "        break  # Exit loop on failure\n"
   ]
  },
  {
   "cell_type": "code",
   "execution_count": 0,
   "metadata": {
    "application/vnd.databricks.v1+cell": {
     "cellMetadata": {
      "byteLimit": 2048000,
      "rowLimit": 10000
     },
     "inputWidgets": {},
     "nuid": "5235a3c4-5da4-4f67-902b-f8a4c8e9e715",
     "showTitle": false,
     "tableResultSettingsMap": {},
     "title": ""
    }
   },
   "outputs": [],
   "source": [
    "video_details_data = []\n",
    "\n",
    "for video_id in video_ids:\n",
    "    try:\n",
    "        VIDEO_DETAILS_URL = f'https://www.googleapis.com/youtube/v3/videos?part=snippet,statistics&id={video_id}&key={API_KEY}'\n",
    "        VIDEO_DETAILS = requests.get(VIDEO_DETAILS_URL)\n",
    "        VIDEO_DETAILS_JSON = VIDEO_DETAILS.json()\n",
    "        item = VIDEO_DETAILS_JSON.get('items', [{}])[0]\n",
    "\n",
    "        snippet = item.get('snippet', {})\n",
    "        statistics = item.get('statistics', {})\n",
    "\n",
    "        channel_title = snippet.get('channelTitle')\n",
    "        published_at = snippet.get('publishedAt')\n",
    "        title = snippet.get('title')\n",
    "        description = snippet.get('description')\n",
    "        tags = str(snippet.get('tags')) if 'tags' in snippet else None\n",
    "        view_count = int(statistics['viewCount']) if 'viewCount' in statistics else None\n",
    "        like_count = int(statistics['likeCount']) if 'likeCount' in statistics else None\n",
    "        comment_count = int(statistics['commentCount']) if 'commentCount' in statistics else None\n",
    "\n",
    "        video_details_data.append((channel_title, published_at, title, description, tags, view_count, like_count, comment_count))\n",
    "\n",
    "    except Exception as e:\n",
    "        print('Failed to fetch', e)"
   ]
  },
  {
   "cell_type": "code",
   "execution_count": 0,
   "metadata": {
    "application/vnd.databricks.v1+cell": {
     "cellMetadata": {
      "byteLimit": 2048000,
      "rowLimit": 10000
     },
     "inputWidgets": {},
     "nuid": "1fd8ca51-e9b2-418f-941c-1de8c1f16b83",
     "showTitle": false,
     "tableResultSettingsMap": {},
     "title": ""
    }
   },
   "outputs": [],
   "source": [
    "columns = ['channel_Name', 'published_date', 'video_title', 'description', 'video_tags', 'view_count', 'like_count', 'comment_count']\n",
    "df_ = spark.createDataFrame(video_details_data, columns)\n",
    "df = df_.withColumn('published_date', to_date('published_date'))\n",
    "\n",
    "df.display()"
   ]
  }
 ],
 "metadata": {
  "application/vnd.databricks.v1+notebook": {
   "computePreferences": null,
   "dashboards": [],
   "environmentMetadata": {
    "base_environment": "",
    "environment_version": "1"
   },
   "inputWidgetPreferences": null,
   "language": "python",
   "notebookMetadata": {
    "mostRecentlyExecutedCommandWithImplicitDF": {
     "commandId": 4441456658644105,
     "dataframes": [
      "_sqldf"
     ]
    },
    "pythonIndentUnit": 4
   },
   "notebookName": "code",
   "widgets": {}
  }
 },
 "nbformat": 4,
 "nbformat_minor": 0
}